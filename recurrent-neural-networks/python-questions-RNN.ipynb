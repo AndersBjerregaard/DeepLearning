{
 "cells": [
  {
   "cell_type": "markdown",
   "id": "a3716b8a-fea5-47b3-988b-c24e643f86e6",
   "metadata": {},
   "source": [
    "### General info of the datasets:\n",
    "\n",
    "Questions contains the title, body, creation date, score, and owner ID for each Python question.\n",
    "\n",
    "Answers contains the body, creation date, score, and owner ID for each of the answers to these questions. The ParentId column links back to the Questions table.\n",
    "\n",
    "Tags contains the tags on each question besides the Python tag.\n",
    "\n",
    "# Reading and Cleaning data"
   ]
  },
  {
   "cell_type": "code",
   "execution_count": 1,
   "id": "2255bd67-d34a-4ea9-9a17-5264952b9787",
   "metadata": {},
   "outputs": [],
   "source": [
    "import pandas as pd"
   ]
  },
  {
   "cell_type": "code",
   "execution_count": 2,
   "id": "11404ec5-76ca-490a-b6c4-cc1f934d326d",
   "metadata": {},
   "outputs": [
    {
     "name": "stdout",
     "output_type": "stream",
     "text": [
      "<class 'pandas.core.frame.DataFrame'>\n",
      "RangeIndex: 1885078 entries, 0 to 1885077\n",
      "Data columns (total 2 columns):\n",
      " #   Column  Dtype \n",
      "---  ------  ----- \n",
      " 0   Id      int64 \n",
      " 1   Tag     object\n",
      "dtypes: int64(1), object(1)\n",
      "memory usage: 28.8+ MB\n",
      "None\n",
      "    Id        Tag\n",
      "0  469     python\n",
      "1  469        osx\n",
      "2  469      fonts\n",
      "3  469  photoshop\n",
      "4  502     python\n"
     ]
    }
   ],
   "source": [
    "# Load tags dataframe\n",
    "df_tags = pd.read_csv('datasets/Tags.csv')\n",
    "print(df_tags.info())\n",
    "print(df_tags.head())"
   ]
  },
  {
   "cell_type": "markdown",
   "id": "4b6d4ba8-6b25-49ef-bd5f-c9e30e983ff9",
   "metadata": {},
   "source": [
    "## Filter out rows that don't contain python tags\n",
    "Edit: This step seems to be redundant, since the info about the dataset states that the tags contain all OTHER tags than python\n",
    "\n",
    "Nevertheless, should the need rearise, the following code can be run:\n",
    "\n",
    "```python\n",
    "df_tags_filtered = df_tags[df_tags['Tag']=='python']\n",
    "print(df_tags_filtered.head())\n",
    "```"
   ]
  },
  {
   "cell_type": "markdown",
   "id": "2b1f0c7b-96f7-46f1-a244-1363c2ac98e4",
   "metadata": {},
   "source": [
    "## Read questions"
   ]
  },
  {
   "cell_type": "code",
   "execution_count": 3,
   "id": "d9f563bf-1a8f-4e85-aac3-76405e7b421f",
   "metadata": {},
   "outputs": [
    {
     "name": "stdout",
     "output_type": "stream",
     "text": [
      "<class 'pandas.core.frame.DataFrame'>\n",
      "RangeIndex: 1000 entries, 0 to 999\n",
      "Data columns (total 6 columns):\n",
      " #   Column        Non-Null Count  Dtype  \n",
      "---  ------        --------------  -----  \n",
      " 0   Id            1000 non-null   int64  \n",
      " 1   OwnerUserId   953 non-null    float64\n",
      " 2   CreationDate  1000 non-null   object \n",
      " 3   Score         1000 non-null   int64  \n",
      " 4   Title         1000 non-null   object \n",
      " 5   Body          1000 non-null   object \n",
      "dtypes: float64(1), int64(2), object(3)\n",
      "memory usage: 47.0+ KB\n",
      "None\n",
      "    Id  OwnerUserId          CreationDate  Score  \\\n",
      "0  469        147.0  2008-08-02T15:11:16Z     21   \n",
      "1  502        147.0  2008-08-02T17:01:58Z     27   \n",
      "2  535        154.0  2008-08-02T18:43:54Z     40   \n",
      "3  594        116.0  2008-08-03T01:15:08Z     25   \n",
      "4  683        199.0  2008-08-03T13:19:16Z     28   \n",
      "\n",
      "                                               Title  \\\n",
      "0  How can I find the full path to a font from it...   \n",
      "1            Get a preview JPEG of a PDF on Windows?   \n",
      "2  Continuous Integration System for a Python Cod...   \n",
      "3     cx_Oracle: How do I iterate over a result set?   \n",
      "4  Using 'in' to match an attribute of Python obj...   \n",
      "\n",
      "                                                Body  \n",
      "0  <p>I am using the Photoshop's javascript API t...  \n",
      "1  <p>I have a cross-platform (Python) applicatio...  \n",
      "2  <p>I'm starting work on a hobby project with a...  \n",
      "3  <p>There are several ways to iterate over a re...  \n",
      "4  <p>I don't remember whether I was dreaming or ...  \n"
     ]
    }
   ],
   "source": [
    "# The csv file contains almost 700.000 entries. For time execution purposes. That's simply too many for the purpose of this notebook\n",
    "df_questions = pd.read_csv('datasets/Questions.csv', encoding='ISO-8859-1', nrows=1000)\n",
    "print(df_questions.info())\n",
    "print(df_questions.head())"
   ]
  },
  {
   "cell_type": "code",
   "execution_count": 4,
   "id": "31dad5d6-770e-4a0b-9bf0-2bdca2014291",
   "metadata": {},
   "outputs": [],
   "source": [
    "question_ids = df_questions['Id'].tolist()"
   ]
  },
  {
   "cell_type": "markdown",
   "id": "795100c8-07f4-4c43-8552-b8703877b20c",
   "metadata": {},
   "source": [
    "## Read Answers"
   ]
  },
  {
   "cell_type": "code",
   "execution_count": 5,
   "id": "68fc5715-2826-4876-ae10-dff03d7dd6a5",
   "metadata": {},
   "outputs": [
    {
     "name": "stdout",
     "output_type": "stream",
     "text": [
      "<class 'pandas.core.frame.DataFrame'>\n",
      "Int64Index: 4032 entries, 0 to 9998\n",
      "Data columns (total 6 columns):\n",
      " #   Column        Non-Null Count  Dtype  \n",
      "---  ------        --------------  -----  \n",
      " 0   Id            4032 non-null   int64  \n",
      " 1   OwnerUserId   3903 non-null   float64\n",
      " 2   CreationDate  4032 non-null   object \n",
      " 3   ParentId      4032 non-null   int64  \n",
      " 4   Score         4032 non-null   int64  \n",
      " 5   Body          4032 non-null   object \n",
      "dtypes: float64(1), int64(3), object(2)\n",
      "memory usage: 220.5+ KB\n",
      "None\n",
      "    Id  OwnerUserId          CreationDate  ParentId  Score  \\\n",
      "0  497         50.0  2008-08-02T16:56:53Z       469      4   \n",
      "1  518        153.0  2008-08-02T17:42:28Z       469      2   \n",
      "2  536        161.0  2008-08-02T18:49:07Z       502      9   \n",
      "3  538        156.0  2008-08-02T18:56:56Z       535     23   \n",
      "4  541        157.0  2008-08-02T19:06:40Z       535     20   \n",
      "\n",
      "                                                Body  \n",
      "0  <p>open up a terminal (Applications-&gt;Utilit...  \n",
      "1  <p>I haven't been able to find anything that d...  \n",
      "2  <p>You can use ImageMagick's convert utility f...  \n",
      "3  <p>One possibility is Hudson.  It's written in...  \n",
      "4  <p>We run <a href=\"http://buildbot.net/trac\">B...  \n"
     ]
    }
   ],
   "source": [
    "df_answers_unfiltered = pd.read_csv('datasets/Answers.csv', encoding='ISO-8859-1', nrows=10000)\n",
    "df_answers = df_answers_unfiltered[df_answers_unfiltered['ParentId'].isin(question_ids)]\n",
    "del df_answers_unfiltered\n",
    "print(df_answers.info())\n",
    "print(df_answers.head())"
   ]
  },
  {
   "cell_type": "markdown",
   "id": "8656b50b-3732-4c6b-aae5-8a8aa1b14a6b",
   "metadata": {},
   "source": [
    "## Clean out html elements from the text data"
   ]
  },
  {
   "cell_type": "code",
   "execution_count": 6,
   "id": "eac47520-9619-4b07-8910-63e2ae368baf",
   "metadata": {},
   "outputs": [],
   "source": [
    "from bs4 import BeautifulSoup"
   ]
  },
  {
   "cell_type": "code",
   "execution_count": 7,
   "id": "ac97e9bf-07f6-4e77-9da9-7f548611a7c7",
   "metadata": {},
   "outputs": [
    {
     "name": "stdout",
     "output_type": "stream",
     "text": [
      "0    I am using the Photoshop's javascript API to f...\n",
      "1    I have a cross-platform (Python) application w...\n",
      "2    I'm starting work on a hobby project with a py...\n",
      "3    There are several ways to iterate over a resul...\n",
      "4    I don't remember whether I was dreaming or not...\n",
      "Name: Body, dtype: object\n"
     ]
    }
   ],
   "source": [
    "# Define a function to extract text from HTML tags using BeautifulSoup\n",
    "def remove_html_tags(text):\n",
    "    soup = BeautifulSoup(text, 'html.parser')\n",
    "    return soup.get_text()\n",
    "\n",
    "# Apply the function to the relevant column of the dataframe\n",
    "df_questions['Body'] = df_questions['Body'].apply(remove_html_tags)\n",
    "\n",
    "# Print cleaned dataframe\n",
    "print(df_questions['Body'].head())"
   ]
  },
  {
   "cell_type": "code",
   "execution_count": 8,
   "id": "8d921271-8e7f-481e-96b8-b1443f5761b6",
   "metadata": {},
   "outputs": [
    {
     "name": "stdout",
     "output_type": "stream",
     "text": [
      "0    open up a terminal (Applications->Utilities->T...\n",
      "1    I haven't been able to find anything that does...\n",
      "2    You can use ImageMagick's convert utility for ...\n",
      "3    One possibility is Hudson.  It's written in Ja...\n",
      "4    We run Buildbot - Trac at work, I haven't used...\n",
      "Name: Body, dtype: object\n"
     ]
    }
   ],
   "source": [
    "# Apply the same logic to the answers\n",
    "df_answers['Body'] = df_answers['Body'].apply(remove_html_tags)\n",
    "print(df_answers['Body'].head())"
   ]
  },
  {
   "cell_type": "code",
   "execution_count": null,
   "id": "49901774-517c-40d9-b428-b67f564296f9",
   "metadata": {},
   "outputs": [],
   "source": []
  }
 ],
 "metadata": {
  "kernelspec": {
   "display_name": "Python 3",
   "language": "python",
   "name": "python3"
  },
  "language_info": {
   "codemirror_mode": {
    "name": "ipython",
    "version": 3
   },
   "file_extension": ".py",
   "mimetype": "text/x-python",
   "name": "python",
   "nbconvert_exporter": "python",
   "pygments_lexer": "ipython3",
   "version": "3.9.16"
  }
 },
 "nbformat": 4,
 "nbformat_minor": 5
}

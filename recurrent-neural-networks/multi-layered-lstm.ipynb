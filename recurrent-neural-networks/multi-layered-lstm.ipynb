{
 "cells": [
  {
   "cell_type": "markdown",
   "id": "bdb4de90-c3ef-4913-b5d7-133c459088dd",
   "metadata": {},
   "source": [
    "# Imports"
   ]
  },
  {
   "cell_type": "code",
   "execution_count": 1,
   "id": "ce00f458-e478-45b4-8262-bd5054496e2b",
   "metadata": {},
   "outputs": [],
   "source": [
    "import torch\n",
    "import torch.nn as nn\n",
    "import matplotlib.pyplot as plt\n",
    "import numpy as np\n",
    "import pandas as pd\n",
    "import math\n",
    "from math import sqrt\n",
    "from sklearn.metrics import mean_squared_error"
   ]
  },
  {
   "cell_type": "markdown",
   "id": "08d43fca-3b8c-4475-8c40-32e5e59d863c",
   "metadata": {},
   "source": [
    "# Read Data"
   ]
  },
  {
   "cell_type": "code",
   "execution_count": 5,
   "id": "0f35c040-2dcc-469c-9257-4597d2d221ea",
   "metadata": {},
   "outputs": [
    {
     "data": {
      "text/plain": [
       "<bound method DataFrame.info of               Date        Close\n",
       "0       1965-12-31   528.690002\n",
       "1       1966-01-03   527.210022\n",
       "2       1966-01-04   527.840027\n",
       "3       1966-01-05   531.119995\n",
       "4       1966-01-06   532.070007\n",
       "...            ...          ...\n",
       "112452  2021-05-27  1247.069946\n",
       "112453  2021-05-28  1256.599976\n",
       "112454  2021-05-31  1248.930054\n",
       "112455  2021-06-01  1258.579956\n",
       "112456  2021-06-02  1263.619995\n",
       "\n",
       "[112457 rows x 2 columns]>"
      ]
     },
     "execution_count": 5,
     "metadata": {},
     "output_type": "execute_result"
    }
   ],
   "source": [
    "df = pd.read_csv('datasets/indexData.csv', usecols=['Date', 'Close'])\n",
    "df.info"
   ]
  },
  {
   "cell_type": "markdown",
   "id": "5a6cf190-ed26-4635-8010-e42006d27b1b",
   "metadata": {},
   "source": [
    "## Info about the dataset\n",
    "\n",
    "Daily price data for indexes tracking stock exchanges from all over the world (United States, China, Canada, Germany, Japan, and more). The data was all collected from Yahoo Finance, which had several decades of data available for most exchanges.\n",
    "\n",
    "Prices are quoted in terms of the national currency of where each exchange is located.\n",
    "\n",
    "## Visualize!"
   ]
  },
  {
   "cell_type": "code",
   "execution_count": null,
   "id": "553c2627-4213-4421-a274-0c60d54d2c42",
   "metadata": {},
   "outputs": [],
   "source": [
    "plt.plot(df['Date'],df['Close'])\n",
    "plt.xlabel('Date')\n",
    "plt.ylabel('Close')\n",
    "plt.title('Stock exchanges')\n",
    "plt.show()"
   ]
  },
  {
   "cell_type": "code",
   "execution_count": null,
   "id": "cd369c22-285d-484f-86fb-64e6df5f2042",
   "metadata": {},
   "outputs": [],
   "source": []
  }
 ],
 "metadata": {
  "kernelspec": {
   "display_name": "Python 3",
   "language": "python",
   "name": "python3"
  },
  "language_info": {
   "codemirror_mode": {
    "name": "ipython",
    "version": 3
   },
   "file_extension": ".py",
   "mimetype": "text/x-python",
   "name": "python",
   "nbconvert_exporter": "python",
   "pygments_lexer": "ipython3",
   "version": "3.9.16"
  }
 },
 "nbformat": 4,
 "nbformat_minor": 5
}

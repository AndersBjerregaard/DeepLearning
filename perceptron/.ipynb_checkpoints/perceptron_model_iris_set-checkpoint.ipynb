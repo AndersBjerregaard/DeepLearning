{
 "cells": [
  {
   "cell_type": "code",
   "execution_count": 31,
   "id": "199bbc5d-8fcf-492e-9fad-aea88dcad291",
   "metadata": {},
   "outputs": [],
   "source": [
    "import os"
   ]
  },
  {
   "cell_type": "code",
   "execution_count": 32,
   "id": "4c22f5b5-b6ff-4620-bc63-0ad386ca6aaa",
   "metadata": {},
   "outputs": [],
   "source": [
    "import pandas as pd"
   ]
  },
  {
   "cell_type": "code",
   "execution_count": 33,
   "id": "98a5755c-1dbf-4fb6-b617-00a3e9f99fe1",
   "metadata": {},
   "outputs": [],
   "source": [
    "df = pd.read_csv('iris.data.csv')"
   ]
  },
  {
   "cell_type": "code",
   "execution_count": 34,
   "id": "f1e5aa6a-c118-43c6-a127-847e25419d8d",
   "metadata": {},
   "outputs": [
    {
     "data": {
      "text/html": [
       "<div>\n",
       "<style scoped>\n",
       "    .dataframe tbody tr th:only-of-type {\n",
       "        vertical-align: middle;\n",
       "    }\n",
       "\n",
       "    .dataframe tbody tr th {\n",
       "        vertical-align: top;\n",
       "    }\n",
       "\n",
       "    .dataframe thead th {\n",
       "        text-align: right;\n",
       "    }\n",
       "</style>\n",
       "<table border=\"1\" class=\"dataframe\">\n",
       "  <thead>\n",
       "    <tr style=\"text-align: right;\">\n",
       "      <th></th>\n",
       "      <th>5.1</th>\n",
       "      <th>3.5</th>\n",
       "      <th>1.4</th>\n",
       "      <th>0.2</th>\n",
       "      <th>Iris-setosa</th>\n",
       "    </tr>\n",
       "  </thead>\n",
       "  <tbody>\n",
       "    <tr>\n",
       "      <th>144</th>\n",
       "      <td>6.7</td>\n",
       "      <td>3.0</td>\n",
       "      <td>5.2</td>\n",
       "      <td>2.3</td>\n",
       "      <td>Iris-virginica</td>\n",
       "    </tr>\n",
       "    <tr>\n",
       "      <th>145</th>\n",
       "      <td>6.3</td>\n",
       "      <td>2.5</td>\n",
       "      <td>5.0</td>\n",
       "      <td>1.9</td>\n",
       "      <td>Iris-virginica</td>\n",
       "    </tr>\n",
       "    <tr>\n",
       "      <th>146</th>\n",
       "      <td>6.5</td>\n",
       "      <td>3.0</td>\n",
       "      <td>5.2</td>\n",
       "      <td>2.0</td>\n",
       "      <td>Iris-virginica</td>\n",
       "    </tr>\n",
       "    <tr>\n",
       "      <th>147</th>\n",
       "      <td>6.2</td>\n",
       "      <td>3.4</td>\n",
       "      <td>5.4</td>\n",
       "      <td>2.3</td>\n",
       "      <td>Iris-virginica</td>\n",
       "    </tr>\n",
       "    <tr>\n",
       "      <th>148</th>\n",
       "      <td>5.9</td>\n",
       "      <td>3.0</td>\n",
       "      <td>5.1</td>\n",
       "      <td>1.8</td>\n",
       "      <td>Iris-virginica</td>\n",
       "    </tr>\n",
       "  </tbody>\n",
       "</table>\n",
       "</div>"
      ],
      "text/plain": [
       "     5.1  3.5  1.4  0.2     Iris-setosa\n",
       "144  6.7  3.0  5.2  2.3  Iris-virginica\n",
       "145  6.3  2.5  5.0  1.9  Iris-virginica\n",
       "146  6.5  3.0  5.2  2.0  Iris-virginica\n",
       "147  6.2  3.4  5.4  2.3  Iris-virginica\n",
       "148  5.9  3.0  5.1  1.8  Iris-virginica"
      ]
     },
     "execution_count": 34,
     "metadata": {},
     "output_type": "execute_result"
    }
   ],
   "source": [
    "# Showcase the end of the DataFrame to validate data integrity\n",
    "df.tail()"
   ]
  },
  {
   "cell_type": "code",
   "execution_count": 35,
   "id": "2140a1cc-26d6-4df9-af30-e63323d5651f",
   "metadata": {},
   "outputs": [],
   "source": [
    "from matplotlib import pyplot as plt"
   ]
  },
  {
   "cell_type": "code",
   "execution_count": 36,
   "id": "5b6b902b-6541-4445-b1cd-5749584c7559",
   "metadata": {},
   "outputs": [],
   "source": [
    "import numpy as np"
   ]
  },
  {
   "cell_type": "code",
   "execution_count": 37,
   "id": "5c291a7b-6a81-4d83-9e7e-012555f15bc5",
   "metadata": {},
   "outputs": [
    {
     "data": {
      "image/png": "[encoded data removed]",
      "text/plain": [
       "<Figure size 640x480 with 1 Axes>"
      ]
     },
     "metadata": {},
     "output_type": "display_data"
    }
   ],
   "source": [
    "# Extract the first 100 class labels that correspond to the 50\n",
    "# Iris-setosa and 50 Iris-versicolor flowers\n",
    "# And convert the class labels into two integer class labels,\n",
    "# 1 (versicolor) and 0 (setosa), that we assign to a vector, y,\n",
    "# where the values method of a pandas DataFrame yields the \n",
    "# corresponding NumpPy representation.\n",
    "\n",
    "# Similarily, we extract the first feature column (sepal length)\n",
    "# and the third feature column (petal length) of those 100 training\n",
    "# examples and assign them to a feature matrix, X, which we can\n",
    "# visualize via a two-dimensional scatterplot:\n",
    "\n",
    "# See https://pandas.pydata.org/pandas-docs/stable/reference/api/pandas.DataFrame.iloc.html\n",
    "# pandas.DataFrame.iloc[] is primarily integer position based \n",
    "# (from 0 to length-1 of the axis), but may also be used with \n",
    "# a boolean array.\n",
    "\n",
    "# See https://www.w3schools.com/python/numpy/numpy_array_slicing.asp\n",
    "# the argument passed into the iloc property selects the value from\n",
    "# the 5th column of the first 100 rows\n",
    "# Meaning we get a collection of strings containing 50 values of\n",
    "# 'Iris-setosa' and 50 values of 'Iris-versicolor'\n",
    "# Contrary to the book, the dataset I downloaded only had 49 \n",
    "# of each flower, hence up to and not including 99:\n",
    "y = df.iloc[:99, 4].values\n",
    "\n",
    "# See https://www.geeksforgeeks.org/numpy-where-in-python/\n",
    "# Sets the y-variable to contain a collection of 0's and 1's.\n",
    "# All of the values in the preceding collection satisfying the \n",
    "# condition in the first parameter of the argument, will be set to\n",
    "# 0. Otherwise they will be set to 1.\n",
    "y = np.where(y == 'Iris-setosa', 0, 1)\n",
    "\n",
    "# Extract sepal length and petal length\n",
    "# By selecting the values from the first and third column\n",
    "# in the first 98 rows\n",
    "X = df.iloc[:99, [0, 2]].values\n",
    "# X is now a two-dimensional array\n",
    "\n",
    "# See https://www.geeksforgeeks.org/matplotlib-pyplot-scatter-in-python/\n",
    "# Plot the data by selecting both values from the first 49 arrays\n",
    "plt.scatter(X[:49, 0], X[:49, 1],\n",
    "            color='red', marker='o', label='Setosa')\n",
    "# Do the same for Versicolor, but this time arrays from and\n",
    "# including 50 to the end of the collection\n",
    "plt.scatter(X[49:, 0], X[49:, 1],\n",
    "            color='blue', marker='s', label='Versicolor')\n",
    "# Put some informative information on the scatter plot\n",
    "plt.xlabel('Sepal length [cm]')\n",
    "plt.ylabel('Petal length [cm]')\n",
    "plt.legend(loc='upper left')\n",
    "plt.show()"
   ]
  },
  {
   "cell_type": "code",
   "execution_count": 38,
   "id": "64fe66c2-6628-40f2-ad1c-243c327185d3",
   "metadata": {},
   "outputs": [
    {
     "name": "stdout",
     "output_type": "stream",
     "text": [
      "The autoreload extension is already loaded. To reload it, use:\n",
      "  %reload_ext autoreload\n"
     ]
    }
   ],
   "source": [
    "# See https://ipython.org/ipython-doc/3/config/extensions/autoreload.html\n",
    "# Load the autoreload module from IPython\n",
    "%load_ext autoreload"
   ]
  },
  {
   "cell_type": "code",
   "execution_count": 39,
   "id": "9b6ff9ee-f7e4-43df-b4a2-697de7c01fe3",
   "metadata": {},
   "outputs": [],
   "source": [
    "# Configue autoreload to reload all modules (except those excluded by %aimport) every time before executing the Python code typed.\n",
    "%autoreload 2"
   ]
  },
  {
   "cell_type": "code",
   "execution_count": 40,
   "id": "fc15745f-0a20-456d-ab2c-db1db5a8c035",
   "metadata": {},
   "outputs": [],
   "source": [
    "# Import the perceptron.py file that I wrote\n",
    "import perceptron"
   ]
  },
  {
   "cell_type": "code",
   "execution_count": 41,
   "id": "bfbe8c09-3c2f-4537-bc9f-dd9b61539ad2",
   "metadata": {},
   "outputs": [],
   "source": [
    "# Training of perceptron algorithm on the extracted Iris data subset.\n",
    "# Plot the misclassification error for each epoch to check whether\n",
    "# the algorithm converged and found a decision boundary that\n",
    "# seperates the two Iris flower classes:\n",
    "ppn = perceptron.Perceptron(eta=0.01, n_iter=10)"
   ]
  },
  {
   "cell_type": "code",
   "execution_count": 42,
   "id": "e9e8703b-0983-4cb3-8fd0-4d9ba5bc6ae6",
   "metadata": {},
   "outputs": [
    {
     "data": {
      "text/plain": [
       "<perceptron.Perceptron at 0x2180a5cf280>"
      ]
     },
     "execution_count": 42,
     "metadata": {},
     "output_type": "execute_result"
    }
   ],
   "source": [
    "ppn.fit(X, y)"
   ]
  },
  {
   "cell_type": "code",
   "execution_count": 43,
   "id": "3dd07fa2-8e3f-4388-85bd-1257d31daa47",
   "metadata": {},
   "outputs": [
    {
     "data": {
      "text/plain": [
       "[<matplotlib.lines.Line2D at 0x2180ad1ee80>]"
      ]
     },
     "execution_count": 43,
     "metadata": {},
     "output_type": "execute_result"
    },
    {
     "data": {
      "image/png": "[encoded data removed]",
      "text/plain": [
       "<Figure size 640x480 with 1 Axes>"
      ]
     },
     "metadata": {},
     "output_type": "display_data"
    }
   ],
   "source": [
    "# See the plot function from pyplot: https://www.geeksforgeeks.org/matplotlib-pyplot-plot-function-in-python/\n",
    "# See the range function in Python: https://www.w3schools.com/python/ref_func_range.asp\n",
    "# Short description of the range function: The range() function returns a sequence of numbers, starting from 0 by default, and increments by 1 (by default), \n",
    "# and stops before a specified number. Syntax: range(start, stop, step)\n",
    "plt.plot(range(1, len(ppn.errors_) + 1),\n",
    "         ppn.errors_, marker='o')"
   ]
  },
  {
   "cell_type": "code",
   "execution_count": null,
   "id": "f27f7b5c-6523-4176-bfd3-b4378191433e",
   "metadata": {},
   "outputs": [],
   "source": []
  }
 ],
 "metadata": {
  "kernelspec": {
   "display_name": "deepLearning",
   "language": "python",
   "name": "deeplearning"
  },
  "language_info": {
   "codemirror_mode": {
    "name": "ipython",
    "version": 3
   },
   "file_extension": ".py",
   "mimetype": "text/x-python",
   "name": "python",
   "nbconvert_exporter": "python",
   "pygments_lexer": "ipython3",
   "version": "3.9.16"
  }
 },
 "nbformat": 4,
 "nbformat_minor": 5
}

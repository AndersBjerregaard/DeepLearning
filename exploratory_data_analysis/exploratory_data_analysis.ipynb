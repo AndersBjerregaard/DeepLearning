{
 "cells": [
  {
   "cell_type": "markdown",
   "id": "9d545e8b-d713-429d-abb3-d2d7ad08a35b",
   "metadata": {},
   "source": [
    "# Import Key Packages"
   ]
  },
  {
   "cell_type": "code",
   "execution_count": 1,
   "id": "cb2bee09-7b4e-411c-8165-28530e0e77f4",
   "metadata": {},
   "outputs": [],
   "source": [
    "import pandas as pd\n",
    "import numpy as np\n",
    "import matplotlib.pyplot as plt"
   ]
  },
  {
   "cell_type": "markdown",
   "id": "6b1f414a-a508-41bc-983b-937b3c9621c4",
   "metadata": {},
   "source": [
    "# Info Of the Data Set"
   ]
  },
  {
   "cell_type": "code",
   "execution_count": 2,
   "id": "689e1a10-2d77-46cc-b5ab-fd529eb01780",
   "metadata": {},
   "outputs": [
    {
     "name": "stdout",
     "output_type": "stream",
     "text": [
      "<class 'pandas.core.frame.DataFrame'>\n",
      "RangeIndex: 521029 entries, 0 to 521028\n",
      "Data columns (total 12 columns):\n",
      " #   Column      Non-Null Count   Dtype  \n",
      "---  ------      --------------   -----  \n",
      " 0   Unnamed: 0  521029 non-null  int64  \n",
      " 1   timestamp   520973 non-null  object \n",
      " 2   longitude   520971 non-null  float64\n",
      " 3   latitude    520984 non-null  float64\n",
      " 4   t1          521029 non-null  float64\n",
      " 5   t2          521029 non-null  float64\n",
      " 6   t3          521029 non-null  float64\n",
      " 7   t4          520986 non-null  float64\n",
      " 8   a1          520982 non-null  float64\n",
      " 9   a3          520982 non-null  float64\n",
      " 10  head        520977 non-null  float64\n",
      " 11  trackspeed  521029 non-null  float64\n",
      "dtypes: float64(10), int64(1), object(1)\n",
      "memory usage: 47.7+ MB\n"
     ]
    }
   ],
   "source": [
    "df_ferries = pd.read_csv('ferry exercise_student.csv')\n",
    "df_ferries.info()"
   ]
  },
  {
   "cell_type": "markdown",
   "id": "a92e491b-659a-45b7-a011-8785bb0538ea",
   "metadata": {},
   "source": [
    "# Data Cleaning / Wrangling\n",
    "\n",
    "The process of cleaning and unifying messy and complex datasets for easy access and analysis\n",
    "\n",
    "### Identify missing values in tabular data:"
   ]
  },
  {
   "cell_type": "code",
   "execution_count": 3,
   "id": "865e8f1b-c1fe-4257-a3ad-d5c3f3e09b41",
   "metadata": {},
   "outputs": [
    {
     "data": {
      "text/plain": [
       "Unnamed: 0     0\n",
       "timestamp     56\n",
       "longitude     58\n",
       "latitude      45\n",
       "t1             0\n",
       "t2             0\n",
       "t3             0\n",
       "t4            43\n",
       "a1            47\n",
       "a3            47\n",
       "head          52\n",
       "trackspeed     0\n",
       "dtype: int64"
      ]
     },
     "execution_count": 3,
     "metadata": {},
     "output_type": "execute_result"
    }
   ],
   "source": [
    "df_ferries.isnull().sum()"
   ]
  },
  {
   "cell_type": "markdown",
   "id": "a00a8f13-caa1-45d5-a121-f0704960445c",
   "metadata": {},
   "source": [
    "### Encode timestamp dtype\n",
    "\n",
    "Set the utc argument to true and refrain from setting a format, to let pandas identify utc format and change dtype"
   ]
  },
  {
   "cell_type": "code",
   "execution_count": 4,
   "id": "0f947ea6-3fc5-4bfd-80cf-2637d10b24a1",
   "metadata": {},
   "outputs": [
    {
     "name": "stdout",
     "output_type": "stream",
     "text": [
      "<class 'pandas.core.frame.DataFrame'>\n",
      "RangeIndex: 521029 entries, 0 to 521028\n",
      "Data columns (total 12 columns):\n",
      " #   Column      Non-Null Count   Dtype              \n",
      "---  ------      --------------   -----              \n",
      " 0   Unnamed: 0  521029 non-null  int64              \n",
      " 1   timestamp   520973 non-null  datetime64[ns, UTC]\n",
      " 2   longitude   520971 non-null  float64            \n",
      " 3   latitude    520984 non-null  float64            \n",
      " 4   t1          521029 non-null  float64            \n",
      " 5   t2          521029 non-null  float64            \n",
      " 6   t3          521029 non-null  float64            \n",
      " 7   t4          520986 non-null  float64            \n",
      " 8   a1          520982 non-null  float64            \n",
      " 9   a3          520982 non-null  float64            \n",
      " 10  head        520977 non-null  float64            \n",
      " 11  trackspeed  521029 non-null  float64            \n",
      "dtypes: datetime64[ns, UTC](1), float64(10), int64(1)\n",
      "memory usage: 47.7 MB\n"
     ]
    }
   ],
   "source": [
    "# Example of a timestamp row value: 2020-09-10 19:30:30+02:00\n",
    "df_ferries.timestamp = pd.to_datetime(df_ferries['timestamp'], utc = True)\n",
    "df_ferries.info()"
   ]
  },
  {
   "cell_type": "code",
   "execution_count": 5,
   "id": "04b0405c-acc7-444e-9125-172506d91b07",
   "metadata": {},
   "outputs": [
    {
     "data": {
      "text/html": [
       "<div>\n",
       "<style scoped>\n",
       "    .dataframe tbody tr th:only-of-type {\n",
       "        vertical-align: middle;\n",
       "    }\n",
       "\n",
       "    .dataframe tbody tr th {\n",
       "        vertical-align: top;\n",
       "    }\n",
       "\n",
       "    .dataframe thead th {\n",
       "        text-align: right;\n",
       "    }\n",
       "</style>\n",
       "<table border=\"1\" class=\"dataframe\">\n",
       "  <thead>\n",
       "    <tr style=\"text-align: right;\">\n",
       "      <th></th>\n",
       "      <th>Unnamed: 0</th>\n",
       "      <th>timestamp</th>\n",
       "      <th>longitude</th>\n",
       "      <th>latitude</th>\n",
       "      <th>t1</th>\n",
       "      <th>t2</th>\n",
       "      <th>t3</th>\n",
       "      <th>t4</th>\n",
       "      <th>a1</th>\n",
       "      <th>a3</th>\n",
       "      <th>head</th>\n",
       "      <th>trackspeed</th>\n",
       "    </tr>\n",
       "  </thead>\n",
       "  <tbody>\n",
       "    <tr>\n",
       "      <th>521024</th>\n",
       "      <td>521024</td>\n",
       "      <td>2021-03-10 15:28:00+00:00</td>\n",
       "      <td>10.885600</td>\n",
       "      <td>54.917833</td>\n",
       "      <td>477.6</td>\n",
       "      <td>290.4</td>\n",
       "      <td>458.7</td>\n",
       "      <td>416.0</td>\n",
       "      <td>186.0</td>\n",
       "      <td>177.0</td>\n",
       "      <td>137.99</td>\n",
       "      <td>15.34</td>\n",
       "    </tr>\n",
       "    <tr>\n",
       "      <th>521025</th>\n",
       "      <td>521025</td>\n",
       "      <td>2021-03-10 15:28:30+00:00</td>\n",
       "      <td>10.887900</td>\n",
       "      <td>54.916883</td>\n",
       "      <td>471.6</td>\n",
       "      <td>287.2</td>\n",
       "      <td>462.0</td>\n",
       "      <td>423.0</td>\n",
       "      <td>184.0</td>\n",
       "      <td>177.0</td>\n",
       "      <td>137.90</td>\n",
       "      <td>15.21</td>\n",
       "    </tr>\n",
       "    <tr>\n",
       "      <th>521026</th>\n",
       "      <td>521026</td>\n",
       "      <td>2021-03-10 15:29:00+00:00</td>\n",
       "      <td>10.890200</td>\n",
       "      <td>54.915950</td>\n",
       "      <td>471.6</td>\n",
       "      <td>292.0</td>\n",
       "      <td>490.6</td>\n",
       "      <td>451.0</td>\n",
       "      <td>181.0</td>\n",
       "      <td>177.0</td>\n",
       "      <td>137.72</td>\n",
       "      <td>15.21</td>\n",
       "    </tr>\n",
       "    <tr>\n",
       "      <th>521027</th>\n",
       "      <td>521027</td>\n",
       "      <td>2021-03-10 15:29:30+00:00</td>\n",
       "      <td>10.892517</td>\n",
       "      <td>54.915000</td>\n",
       "      <td>492.0</td>\n",
       "      <td>298.4</td>\n",
       "      <td>493.9</td>\n",
       "      <td>448.0</td>\n",
       "      <td>188.0</td>\n",
       "      <td>177.0</td>\n",
       "      <td>138.08</td>\n",
       "      <td>15.34</td>\n",
       "    </tr>\n",
       "    <tr>\n",
       "      <th>521028</th>\n",
       "      <td>521028</td>\n",
       "      <td>2021-03-10 15:30:00+00:00</td>\n",
       "      <td>10.894817</td>\n",
       "      <td>54.914050</td>\n",
       "      <td>469.2</td>\n",
       "      <td>292.8</td>\n",
       "      <td>486.2</td>\n",
       "      <td>449.0</td>\n",
       "      <td>187.0</td>\n",
       "      <td>177.0</td>\n",
       "      <td>138.25</td>\n",
       "      <td>15.34</td>\n",
       "    </tr>\n",
       "  </tbody>\n",
       "</table>\n",
       "</div>"
      ],
      "text/plain": [
       "        Unnamed: 0                 timestamp  longitude   latitude     t1  \\\n",
       "521024      521024 2021-03-10 15:28:00+00:00  10.885600  54.917833  477.6   \n",
       "521025      521025 2021-03-10 15:28:30+00:00  10.887900  54.916883  471.6   \n",
       "521026      521026 2021-03-10 15:29:00+00:00  10.890200  54.915950  471.6   \n",
       "521027      521027 2021-03-10 15:29:30+00:00  10.892517  54.915000  492.0   \n",
       "521028      521028 2021-03-10 15:30:00+00:00  10.894817  54.914050  469.2   \n",
       "\n",
       "           t2     t3     t4     a1     a3    head  trackspeed  \n",
       "521024  290.4  458.7  416.0  186.0  177.0  137.99       15.34  \n",
       "521025  287.2  462.0  423.0  184.0  177.0  137.90       15.21  \n",
       "521026  292.0  490.6  451.0  181.0  177.0  137.72       15.21  \n",
       "521027  298.4  493.9  448.0  188.0  177.0  138.08       15.34  \n",
       "521028  292.8  486.2  449.0  187.0  177.0  138.25       15.34  "
      ]
     },
     "execution_count": 5,
     "metadata": {},
     "output_type": "execute_result"
    }
   ],
   "source": [
    "df_ferries.tail()"
   ]
  },
  {
   "cell_type": "code",
   "execution_count": 6,
   "id": "3af8d43d-0065-456b-b22a-ab91d1954c15",
   "metadata": {},
   "outputs": [
    {
     "data": {
      "text/plain": [
       "Unnamed: 0     0\n",
       "timestamp     56\n",
       "longitude     58\n",
       "latitude      45\n",
       "t1             0\n",
       "t2             0\n",
       "t3             0\n",
       "t4            43\n",
       "a1            47\n",
       "a3            47\n",
       "head          52\n",
       "trackspeed     0\n",
       "dtype: int64"
      ]
     },
     "execution_count": 6,
     "metadata": {},
     "output_type": "execute_result"
    }
   ],
   "source": [
    "df_ferries.isnull().sum()"
   ]
  },
  {
   "cell_type": "markdown",
   "id": "7368645a-bc58-4b4f-9218-829198474f4c",
   "metadata": {},
   "source": [
    "### Impute missing values:\n",
    "Since only the timestamp column is of type 'object', we use the most_frequent strategy for imputing data here. And mean for the rest."
   ]
  },
  {
   "cell_type": "code",
   "execution_count": 9,
   "id": "184e1f71-eaa7-422f-8f87-f6484e7ceb35",
   "metadata": {},
   "outputs": [
    {
     "data": {
      "text/plain": [
       "0        2020-09-10 17:30:00+00:00\n",
       "1        2020-09-10 17:30:30+00:00\n",
       "2        2020-09-10 17:31:00+00:00\n",
       "3        2020-09-10 17:31:30+00:00\n",
       "4        2020-09-10 17:32:00+00:00\n",
       "                    ...           \n",
       "521024   2021-03-10 15:28:00+00:00\n",
       "521025   2021-03-10 15:28:30+00:00\n",
       "521026   2021-03-10 15:29:00+00:00\n",
       "521027   2021-03-10 15:29:30+00:00\n",
       "521028   2021-03-10 15:30:00+00:00\n",
       "Name: timestamp, Length: 521029, dtype: datetime64[ns, UTC]"
      ]
     },
     "execution_count": 9,
     "metadata": {},
     "output_type": "execute_result"
    }
   ],
   "source": [
    "# The SimpleImputer class does not support datetime dtypes\n",
    "df_ferries.timestamp = df_ferries.timestamp.fillna(df_ferries.timestamp.median())"
   ]
  },
  {
   "cell_type": "code",
   "execution_count": 10,
   "id": "96463b1f-d457-4b28-888e-6b60aff23f48",
   "metadata": {},
   "outputs": [
    {
     "data": {
      "text/plain": [
       "Unnamed: 0     0\n",
       "timestamp     56\n",
       "longitude     58\n",
       "latitude      45\n",
       "t1             0\n",
       "t2             0\n",
       "t3             0\n",
       "t4            43\n",
       "a1            47\n",
       "a3            47\n",
       "head          52\n",
       "trackspeed     0\n",
       "dtype: int64"
      ]
     },
     "execution_count": 10,
     "metadata": {},
     "output_type": "execute_result"
    }
   ],
   "source": [
    "df_ferries.isnull().sum()"
   ]
  },
  {
   "cell_type": "markdown",
   "id": "9d2d7ea8-39a9-4fc8-9886-7c9dfab2512a",
   "metadata": {},
   "source": [
    "#### Impute the float columns:"
   ]
  },
  {
   "cell_type": "code",
   "execution_count": null,
   "id": "909a92c1-e265-48f8-bffe-197e8589fc7e",
   "metadata": {},
   "outputs": [],
   "source": []
  }
 ],
 "metadata": {
  "kernelspec": {
   "display_name": "Python 3",
   "language": "python",
   "name": "python3"
  },
  "language_info": {
   "codemirror_mode": {
    "name": "ipython",
    "version": 3
   },
   "file_extension": ".py",
   "mimetype": "text/x-python",
   "name": "python",
   "nbconvert_exporter": "python",
   "pygments_lexer": "ipython3",
   "version": "3.9.16"
  }
 },
 "nbformat": 4,
 "nbformat_minor": 5
}

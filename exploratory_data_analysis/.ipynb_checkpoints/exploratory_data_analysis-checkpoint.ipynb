{
 "cells": [
  {
   "cell_type": "markdown",
   "id": "9d545e8b-d713-429d-abb3-d2d7ad08a35b",
   "metadata": {},
   "source": [
    "# Import Key Packages"
   ]
  },
  {
   "cell_type": "code",
   "execution_count": 2,
   "id": "cb2bee09-7b4e-411c-8165-28530e0e77f4",
   "metadata": {},
   "outputs": [],
   "source": [
    "import pandas as pd\n",
    "import numpy as np\n",
    "import matplotlib.pyplot as plt"
   ]
  },
  {
   "cell_type": "markdown",
   "id": "6b1f414a-a508-41bc-983b-937b3c9621c4",
   "metadata": {},
   "source": [
    "# Info Of the Data Set"
   ]
  },
  {
   "cell_type": "code",
   "execution_count": 5,
   "id": "689e1a10-2d77-46cc-b5ab-fd529eb01780",
   "metadata": {},
   "outputs": [
    {
     "name": "stdout",
     "output_type": "stream",
     "text": [
      "<class 'pandas.core.frame.DataFrame'>\n",
      "RangeIndex: 521029 entries, 0 to 521028\n",
      "Data columns (total 12 columns):\n",
      " #   Column      Non-Null Count   Dtype  \n",
      "---  ------      --------------   -----  \n",
      " 0   Unnamed: 0  521029 non-null  int64  \n",
      " 1   timestamp   520973 non-null  object \n",
      " 2   longitude   520971 non-null  float64\n",
      " 3   latitude    520984 non-null  float64\n",
      " 4   t1          521029 non-null  float64\n",
      " 5   t2          521029 non-null  float64\n",
      " 6   t3          521029 non-null  float64\n",
      " 7   t4          520986 non-null  float64\n",
      " 8   a1          520982 non-null  float64\n",
      " 9   a3          520982 non-null  float64\n",
      " 10  head        520977 non-null  float64\n",
      " 11  trackspeed  521029 non-null  float64\n",
      "dtypes: float64(10), int64(1), object(1)\n",
      "memory usage: 47.7+ MB\n"
     ]
    }
   ],
   "source": [
    "df_ferries = pd.read_csv('ferry exercise_student.csv')\n",
    "df_ferries.info()"
   ]
  },
  {
   "cell_type": "markdown",
   "id": "a92e491b-659a-45b7-a011-8785bb0538ea",
   "metadata": {},
   "source": [
    "# Data Cleaning / Wrangling\n",
    "\n",
    "The process of cleaning and unifying messy and complex datasets for easy access and analysis\n",
    "\n",
    "### Identify missing values in tabular data:"
   ]
  },
  {
   "cell_type": "code",
   "execution_count": 6,
   "id": "865e8f1b-c1fe-4257-a3ad-d5c3f3e09b41",
   "metadata": {},
   "outputs": [
    {
     "data": {
      "text/plain": [
       "Unnamed: 0     0\n",
       "timestamp     56\n",
       "longitude     58\n",
       "latitude      45\n",
       "t1             0\n",
       "t2             0\n",
       "t3             0\n",
       "t4            43\n",
       "a1            47\n",
       "a3            47\n",
       "head          52\n",
       "trackspeed     0\n",
       "dtype: int64"
      ]
     },
     "execution_count": 6,
     "metadata": {},
     "output_type": "execute_result"
    }
   ],
   "source": [
    "df_ferries.isnull().sum()"
   ]
  },
  {
   "cell_type": "markdown",
   "id": "7368645a-bc58-4b4f-9218-829198474f4c",
   "metadata": {},
   "source": [
    "### Impute missing values:"
   ]
  },
  {
   "cell_type": "code",
   "execution_count": 7,
   "id": "5f22c05e-99db-4ea7-b2a5-99fd9fea4381",
   "metadata": {},
   "outputs": [],
   "source": [
    "from sklearn.impute import SimpleImputer"
   ]
  },
  {
   "cell_type": "code",
   "execution_count": 8,
   "id": "404f453a-b0eb-4519-a9cb-d82b7f42189a",
   "metadata": {},
   "outputs": [],
   "source": [
    "imr = SimpleImputer(missing_values=np.nan, strategy='most_frequent')"
   ]
  },
  {
   "cell_type": "code",
   "execution_count": 12,
   "id": "184e1f71-eaa7-422f-8f87-f6484e7ceb35",
   "metadata": {},
   "outputs": [],
   "source": [
    "df_ferries.timestamp = imr.fit_transform(df_ferries['timestamp'].values.reshape(-1,1))[:,0]"
   ]
  },
  {
   "cell_type": "code",
   "execution_count": 13,
   "id": "96463b1f-d457-4b28-888e-6b60aff23f48",
   "metadata": {},
   "outputs": [
    {
     "data": {
      "text/plain": [
       "Unnamed: 0     0\n",
       "timestamp      0\n",
       "longitude     58\n",
       "latitude      45\n",
       "t1             0\n",
       "t2             0\n",
       "t3             0\n",
       "t4            43\n",
       "a1            47\n",
       "a3            47\n",
       "head          52\n",
       "trackspeed     0\n",
       "dtype: int64"
      ]
     },
     "execution_count": 13,
     "metadata": {},
     "output_type": "execute_result"
    }
   ],
   "source": [
    "df_ferries.isnull().sum()"
   ]
  },
  {
   "cell_type": "code",
   "execution_count": null,
   "id": "ed7dd0f6-f30d-42e3-8bca-145ee1c753e0",
   "metadata": {},
   "outputs": [],
   "source": []
  }
 ],
 "metadata": {
  "kernelspec": {
   "display_name": "Python 3",
   "language": "python",
   "name": "python3"
  },
  "language_info": {
   "codemirror_mode": {
    "name": "ipython",
    "version": 3
   },
   "file_extension": ".py",
   "mimetype": "text/x-python",
   "name": "python",
   "nbconvert_exporter": "python",
   "pygments_lexer": "ipython3",
   "version": "3.9.16"
  }
 },
 "nbformat": 4,
 "nbformat_minor": 5
}
